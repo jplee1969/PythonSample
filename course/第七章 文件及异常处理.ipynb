{
 "cells": [
  {
   "cell_type": "markdown",
   "metadata": {},
   "source": [
    "# 第七章 文件及异常处理\n",
    "## 7.1 学生成绩处理与批量修改"
   ]
  },
  {
   "cell_type": "markdown",
   "metadata": {},
   "source": [
    "- 将文本文件批量转换成Excel文件\n",
    "    - 文本文件读写\n",
    "    - Excel文件读写\n",
    "    - 操作系统命令"
   ]
  },
  {
   "cell_type": "markdown",
   "metadata": {},
   "source": [
    "## 7.2 预备知识--文件操作与openpyxl库\n",
    "### 7.2.1 文件"
   ]
  },
  {
   "cell_type": "markdown",
   "metadata": {},
   "source": [
    "- 文件可分为文本文件和二进制文件两大类\n",
    "- 文本文件：由若干行以特定编码存储的字符组成，常见编码形式有ASCII编码，UNICODE编码等等。通常每行以换行符“\\n”结尾。在Windows系统中，扩展名为txt、log、ini、py的文件都属于文本文件。可用记事本之类的文本编辑器进行编辑。\n",
    "- 二进制文件：除文本文件以外的文件都可以称为二进制文件，其信息以字节串形式存储，不能用记事本或普通文字处理软件编辑，打开会是乱码，需使用相关软件进行解码后读取。常见的如各类office文档、音视频文件、可执行文件、图形图像文件等。\n"
   ]
  },
  {
   "cell_type": "markdown",
   "metadata": {},
   "source": [
    "### 7.2.2 文件常用操作\n",
    "#### 文件的打开"
   ]
  },
  {
   "cell_type": "code",
   "execution_count": 2,
   "metadata": {},
   "outputs": [
    {
     "name": "stdout",
     "output_type": "stream",
     "text": [
      "中国:北京 \n",
      "蒙古:乌兰巴托 \n",
      "朝鲜:平壤 \n",
      "韩国:首尔 \n",
      "日本:东京 \n"
     ]
    }
   ],
   "source": [
    "f = open(\"data/sample.txt\",\"r\")\n",
    "txt = f.read()\n",
    "print(txt)\n",
    "f.close()"
   ]
  },
  {
   "cell_type": "markdown",
   "metadata": {},
   "source": [
    "#### 文件的关闭"
   ]
  },
  {
   "cell_type": "code",
   "execution_count": 3,
   "metadata": {},
   "outputs": [],
   "source": [
    "f.close()"
   ]
  },
  {
   "cell_type": "markdown",
   "metadata": {},
   "source": [
    "#### 文件的读写"
   ]
  },
  {
   "cell_type": "code",
   "execution_count": 5,
   "metadata": {},
   "outputs": [
    {
     "name": "stdout",
     "output_type": "stream",
     "text": [
      "中国:\n",
      "北京 \n",
      "蒙古:乌兰巴托 \n",
      "朝鲜:平壤 \n",
      "韩国:首尔 \n",
      "日本:东京 \n"
     ]
    }
   ],
   "source": [
    "f = open(\"data/sample.txt\",\"r\")\n",
    "txt = f.read(3)\n",
    "print(txt)\n",
    "txt1 = f.read()\n",
    "print(txt1)\n",
    "f.close()"
   ]
  },
  {
   "cell_type": "code",
   "execution_count": 8,
   "metadata": {},
   "outputs": [
    {
     "name": "stdout",
     "output_type": "stream",
     "text": [
      "中国:\n",
      "北京 \n",
      "\n"
     ]
    }
   ],
   "source": [
    "f = open(\"data/sample.txt\",\"r\")\n",
    "line = f.readline(3)\n",
    "print(line)\n",
    "print(f.readline())\n",
    "f.close()"
   ]
  },
  {
   "cell_type": "code",
   "execution_count": 9,
   "metadata": {},
   "outputs": [
    {
     "name": "stdout",
     "output_type": "stream",
     "text": [
      "['中国:北京 \\n', '蒙古:乌兰巴托 \\n', '朝鲜:平壤 \\n', '韩国:首尔 \\n', '日本:东京 ']\n"
     ]
    }
   ],
   "source": [
    "f = open(\"data/sample.txt\",\"r\")\n",
    "lines = f.readlines()\n",
    "print(lines)\n",
    "f.close()"
   ]
  },
  {
   "cell_type": "code",
   "execution_count": 11,
   "metadata": {},
   "outputs": [
    {
     "name": "stdout",
     "output_type": "stream",
     "text": [
      "中国:北京 \n",
      "\n",
      "蒙古:乌兰巴托 \n",
      "\n",
      "朝鲜:平壤 \n",
      "\n",
      "韩国:首尔 \n",
      "\n",
      "日本:东京 \n"
     ]
    }
   ],
   "source": [
    "f = open(\"data/sample.txt\",\"r\")\n",
    "#for line in f.readlines():\n",
    "for line in f:\n",
    "    print(line)\n",
    "f.close()"
   ]
  },
  {
   "cell_type": "markdown",
   "metadata": {},
   "source": [
    "#### with语句"
   ]
  },
  {
   "cell_type": "code",
   "execution_count": 2,
   "metadata": {},
   "outputs": [
    {
     "name": "stdout",
     "output_type": "stream",
     "text": [
      "中国:北京 \n",
      "\n",
      "蒙古:乌兰巴托 \n",
      "\n",
      "朝鲜:平壤 \n",
      "\n",
      "韩国:首尔 \n",
      "\n",
      "日本:东京 \n",
      "End\n"
     ]
    }
   ],
   "source": [
    "with open(\"data/sample.txt\",\"r\") as f:\n",
    "    for line in f:\n",
    "        print(line)\n",
    "print(\"End\")"
   ]
  },
  {
   "cell_type": "code",
   "execution_count": 7,
   "metadata": {},
   "outputs": [],
   "source": [
    "f = open(\"data/sample1.txt\",\"a+\")\n",
    "s = \"美国:华盛顿\\n\"\n",
    "f.write(s)\n",
    "lst = ['中国:北京 \\n', '蒙古:乌兰巴托 \\n', '朝鲜:平壤 \\n', '韩国:首尔 \\n', '日本:东京 ']\n",
    "f.writelines(lst)\n",
    "f.close()"
   ]
  },
  {
   "cell_type": "markdown",
   "metadata": {},
   "source": [
    "### 7.2.3 openpyxl库常用方法\n",
    "#### 创建Excel文件"
   ]
  },
  {
   "cell_type": "code",
   "execution_count": 9,
   "metadata": {},
   "outputs": [],
   "source": [
    "from openpyxl import Workbook\n",
    "wb = Workbook()\n",
    "ws = wb.worksheets[0]\n",
    "ws[\"A1\"] = \"张三\"\n",
    "ws[\"A2\"] = \"李四\"\n",
    "ws[\"B1\"] = 100\n",
    "wb.save(\"data/foo.xlsx\")"
   ]
  },
  {
   "cell_type": "markdown",
   "metadata": {},
   "source": [
    "#### append函数"
   ]
  },
  {
   "cell_type": "code",
   "execution_count": 10,
   "metadata": {},
   "outputs": [],
   "source": [
    "from openpyxl import load_workbook\n",
    "wb = load_workbook(\"data/foo.xlsx\")\n",
    "ws = wb.worksheets[0]\n",
    "ws.append([1,2,3,4,5])\n",
    "wb.save(\"data/foo.xlsx\")"
   ]
  },
  {
   "cell_type": "markdown",
   "metadata": {},
   "source": [
    "#### 保存文件"
   ]
  },
  {
   "cell_type": "code",
   "execution_count": null,
   "metadata": {},
   "outputs": [],
   "source": [
    "wb.save(\"data/foo.xlsx\")"
   ]
  },
  {
   "cell_type": "markdown",
   "metadata": {},
   "source": [
    "#### 读写Excel文件"
   ]
  },
  {
   "cell_type": "code",
   "execution_count": null,
   "metadata": {},
   "outputs": [],
   "source": []
  },
  {
   "cell_type": "markdown",
   "metadata": {},
   "source": [
    "#### 获取单元格内容"
   ]
  },
  {
   "cell_type": "code",
   "execution_count": 21,
   "metadata": {},
   "outputs": [
    {
     "name": "stdout",
     "output_type": "stream",
     "text": [
      "学生成绩表\n",
      "92 85 84 91 "
     ]
    }
   ],
   "source": [
    "from openpyxl import load_workbook\n",
    "wb = load_workbook(\"data/test.xlsx\")\n",
    "ws = wb.worksheets[0]\n",
    "print(ws[\"A1\"].value)\n",
    "for cell in ws[\"C3\":\"F3\"][0]:\n",
    "    print(cell.value, end=\" \")"
   ]
  },
  {
   "cell_type": "markdown",
   "metadata": {},
   "source": [
    "#### 单元格赋值"
   ]
  },
  {
   "cell_type": "code",
   "execution_count": null,
   "metadata": {},
   "outputs": [],
   "source": [
    "ws[\"A1\"] = \"张三\"\n",
    "ws[\"A2\"] = \"李四\"\n",
    "ws[\"B1\"] = 100"
   ]
  },
  {
   "cell_type": "markdown",
   "metadata": {},
   "source": [
    "#### 获取行和列"
   ]
  },
  {
   "cell_type": "code",
   "execution_count": 24,
   "metadata": {},
   "outputs": [
    {
     "name": "stdout",
     "output_type": "stream",
     "text": [
      "姓名\n",
      "41\n",
      "6\n"
     ]
    }
   ],
   "source": [
    "from openpyxl import load_workbook\n",
    "wb = load_workbook(\"data/test.xlsx\")\n",
    "ws = wb.worksheets[0]\n",
    "print(ws.cell(2,2).value)\n",
    "print(ws.max_row)\n",
    "print(ws.max_column)"
   ]
  },
  {
   "cell_type": "markdown",
   "metadata": {},
   "source": [
    "#### 获取所有单元格"
   ]
  },
  {
   "cell_type": "code",
   "execution_count": 25,
   "metadata": {},
   "outputs": [
    {
     "name": "stdout",
     "output_type": "stream",
     "text": [
      "学生成绩表\n",
      "None\n",
      "None\n",
      "None\n",
      "None\n",
      "None\n",
      "学号\n",
      "姓名\n",
      "课堂表现\n",
      "课后实训\n",
      "大作业\n",
      "期末成绩\n",
      "01301001\n",
      "朱智豪\n",
      "92\n",
      "85\n",
      "84\n",
      "91\n",
      "01301002\n",
      "许可\n",
      "87\n",
      "81\n",
      "82\n",
      "89\n",
      "01301003\n",
      "张炜发\n",
      "82\n",
      "83\n",
      "79\n",
      "80\n",
      "01301004\n",
      "萧嘉慧\n",
      "83\n",
      "90\n",
      "71\n",
      "64\n",
      "01301005\n",
      "林崇嘉\n",
      "91\n",
      "97\n",
      "76\n",
      "68\n",
      "01301006\n",
      "郑振灿\n",
      "96\n",
      "85\n",
      "71\n",
      "61\n",
      "01301007\n",
      "杜秋楠\n",
      "90\n",
      "87\n",
      "79\n",
      "82\n",
      "01301008\n",
      "杨德生\n",
      "77\n",
      "86\n",
      "64\n",
      "45\n",
      "01301009\n",
      "韩振峰\n",
      "86\n",
      "84\n",
      "76\n",
      "75\n",
      "01301010\n",
      "罗曼琳\n",
      "92\n",
      "98\n",
      "93\n",
      "92\n",
      "01301011\n",
      "潘保文\n",
      "90\n",
      "92\n",
      "80\n",
      "77\n",
      "01301012\n",
      "曾繁智\n",
      "89\n",
      "90\n",
      "78\n",
      "76\n",
      "01301013\n",
      "江希超\n",
      "90\n",
      "85\n",
      "89\n",
      "87\n",
      "01301014\n",
      "谢宝宜\n",
      "95\n",
      "90\n",
      "95\n",
      "97\n",
      "01301015\n",
      "张颖\n",
      "98\n",
      "98\n",
      "93\n",
      "87\n",
      "01301016\n",
      "欧源\n",
      "90\n",
      "100\n",
      "96\n",
      "94\n",
      "01301017\n",
      "杨淼坤\n",
      "88\n",
      "86\n",
      "78\n",
      "67\n",
      "01301018\n",
      "蔡朝丹\n",
      "86\n",
      "96\n",
      "85\n",
      "77\n",
      "01301019\n",
      "曾胜强\n",
      "85\n",
      "93\n",
      "77\n",
      "63\n",
      "01301020\n",
      "许桂忠\n",
      "84\n",
      "88\n",
      "82\n",
      "74\n",
      "01301021\n",
      "郑夏琪\n",
      "91\n",
      "85\n",
      "75\n",
      "50\n",
      "01301022\n",
      "郑铭伟\n",
      "88\n",
      "75\n",
      "75\n",
      "73\n",
      "01301023\n",
      "钟霸星\n",
      "93\n",
      "87\n",
      "78\n",
      "64\n",
      "01301024\n",
      "欧雅丽\n",
      "93\n",
      "87\n",
      "70\n",
      "60\n",
      "01301025\n",
      "陈钊锋\n",
      "86\n",
      "78\n",
      "79\n",
      "71\n",
      "01301026\n",
      "洪金奎\n",
      "94\n",
      "88\n",
      "80\n",
      "67\n",
      "01301027\n",
      "陈志鹏\n",
      "91\n",
      "88\n",
      "97\n",
      "99\n",
      "01301028\n",
      "杜嘉颖\n",
      "92\n",
      "80\n",
      "86\n",
      "84\n",
      "01301029\n",
      "谢俊辉\n",
      "94\n",
      "83\n",
      "80\n",
      "68\n",
      "01301030\n",
      "杨定康\n",
      "90\n",
      "78\n",
      "85\n",
      "79\n",
      "01301031\n",
      "江梓健\n",
      "88\n",
      "89\n",
      "85\n",
      "78\n",
      "01301032\n",
      "侯必莲\n",
      "90\n",
      "86\n",
      "81\n",
      "69\n",
      "01301033\n",
      "李炫廷\n",
      "95\n",
      "87\n",
      "87\n",
      "82\n",
      "01301034\n",
      "赖永伟\n",
      "95\n",
      "84\n",
      "76\n",
      "60\n",
      "01301035\n",
      "李勇\n",
      "88\n",
      "85\n",
      "70\n",
      "55\n",
      "01301036\n",
      "詹婷珊\n",
      "92\n",
      "82\n",
      "89\n",
      "88\n",
      "1\n",
      "2\n",
      "3\n",
      "4\n",
      "5\n",
      "None\n",
      "1\n",
      "2\n",
      "3\n",
      "4\n",
      "5\n",
      "None\n",
      "1\n",
      "2\n",
      "3\n",
      "4\n",
      "5\n",
      "None\n"
     ]
    }
   ],
   "source": [
    "from openpyxl import load_workbook\n",
    "wb = load_workbook(\"data/test.xlsx\")\n",
    "ws = wb.worksheets[0]\n",
    "for r in range(ws.max_row):\n",
    "    for c in range(ws.max_column):\n",
    "        print(ws.cell(r+1,c+1).value)"
   ]
  },
  {
   "cell_type": "markdown",
   "metadata": {},
   "source": [
    "### 7.2.4 os库常用方法"
   ]
  },
  {
   "cell_type": "code",
   "execution_count": 28,
   "metadata": {},
   "outputs": [
    {
     "name": "stdout",
     "output_type": "stream",
     "text": [
      ".ipynb_checkpoints\n",
      "19大数据1\n",
      "19大数据3\n",
      "19大数据4\n",
      "dxf\n",
      "Untitled.ipynb\n",
      "字典与集合.txt\n"
     ]
    }
   ],
   "source": [
    "import os\n",
    "file_lst = os.listdir(\"d:/python\")\n",
    "for f in file_lst:\n",
    "    print(f)"
   ]
  },
  {
   "cell_type": "markdown",
   "metadata": {},
   "source": [
    "## 7.3 任务分析\n",
    "### 7.3.1任务分析--单个文件格式转换"
   ]
  },
  {
   "cell_type": "code",
   "execution_count": null,
   "metadata": {},
   "outputs": [],
   "source": []
  },
  {
   "cell_type": "markdown",
   "metadata": {},
   "source": [
    "### 7.3.2 任务分析--批量文件格式转换"
   ]
  },
  {
   "cell_type": "code",
   "execution_count": null,
   "metadata": {},
   "outputs": [],
   "source": []
  },
  {
   "cell_type": "markdown",
   "metadata": {},
   "source": [
    "### 7.3.3 任务分析--单个文件内容修改"
   ]
  },
  {
   "cell_type": "code",
   "execution_count": null,
   "metadata": {},
   "outputs": [],
   "source": []
  },
  {
   "cell_type": "markdown",
   "metadata": {},
   "source": [
    "### 7.3.4 任务分析--批量文件内容修改"
   ]
  },
  {
   "cell_type": "code",
   "execution_count": null,
   "metadata": {},
   "outputs": [],
   "source": []
  },
  {
   "cell_type": "markdown",
   "metadata": {},
   "source": [
    "## 7.4 任务实现\n",
    "#### 单个文件格式转换"
   ]
  },
  {
   "cell_type": "code",
   "execution_count": 3,
   "metadata": {},
   "outputs": [],
   "source": [
    "from openpyxl import Workbook\n",
    "import os\n",
    "def txt_to_xlsx(filename):\n",
    "    xlsx_name = filename[:-3] + \"xlsx\"\n",
    "    wb = Workbook()\n",
    "    ws = wb.worksheets[0]\n",
    "    with open(filename, \"r\", encoding=\"utf8\") as fp:\n",
    "        for line in fp:\n",
    "            lst = line.strip().split(\",\")\n",
    "            ws.append(lst)\n",
    "        wb.save(xlsx_name)\n",
    "        \n",
    "#txt_to_xlsx(\"data/txt/test10.txt\")"
   ]
  },
  {
   "cell_type": "markdown",
   "metadata": {},
   "source": [
    "#### 批量文件格式转换"
   ]
  },
  {
   "cell_type": "code",
   "execution_count": 4,
   "metadata": {},
   "outputs": [
    {
     "name": "stdout",
     "output_type": "stream",
     "text": [
      "转换完毕\n"
     ]
    }
   ],
   "source": [
    "path = \"data/txt/\"\n",
    "file_lst = os.listdir(path)\n",
    "for file_name in file_lst:\n",
    "    pos = file_name.rindex(\".\")\n",
    "    if file_name[pos+1:]==\"txt\":\n",
    "        txt_to_xlsx(path + file_name)\n",
    "print(\"转换完毕\")"
   ]
  },
  {
   "cell_type": "markdown",
   "metadata": {},
   "source": [
    "#### 单个文件内容修改"
   ]
  },
  {
   "cell_type": "code",
   "execution_count": null,
   "metadata": {},
   "outputs": [],
   "source": []
  },
  {
   "cell_type": "markdown",
   "metadata": {},
   "source": [
    "#### 批量文件内容修改"
   ]
  },
  {
   "cell_type": "code",
   "execution_count": null,
   "metadata": {},
   "outputs": [],
   "source": []
  },
  {
   "cell_type": "markdown",
   "metadata": {},
   "source": [
    "## 7.5 学生成绩文件异常处理"
   ]
  },
  {
   "cell_type": "markdown",
   "metadata": {},
   "source": [
    "- 文件找不到\n",
    "- 工作表下表越界\n",
    "- 数据类型不匹配\n"
   ]
  },
  {
   "cell_type": "markdown",
   "metadata": {},
   "source": [
    "## 7.6 预备知识--异常\n",
    "### 7.6.1 异常"
   ]
  },
  {
   "cell_type": "markdown",
   "metadata": {},
   "source": [
    "- 异常和错误"
   ]
  },
  {
   "cell_type": "code",
   "execution_count": 5,
   "metadata": {},
   "outputs": [
    {
     "name": "stdout",
     "output_type": "stream",
     "text": [
      "10\n",
      "20\n",
      "1020\n"
     ]
    }
   ],
   "source": [
    "a = input()\n",
    "b = input()\n",
    "c = a + b\n",
    "print(c)\n"
   ]
  },
  {
   "cell_type": "code",
   "execution_count": 6,
   "metadata": {},
   "outputs": [
    {
     "ename": "NameError",
     "evalue": "name 'inputr' is not defined",
     "output_type": "error",
     "traceback": [
      "\u001b[1;31m---------------------------------------------------------------------------\u001b[0m",
      "\u001b[1;31mNameError\u001b[0m                                 Traceback (most recent call last)",
      "\u001b[1;32m<ipython-input-6-6cdb9834fcab>\u001b[0m in \u001b[0;36m<module>\u001b[1;34m\u001b[0m\n\u001b[1;32m----> 1\u001b[1;33m \u001b[0ma\u001b[0m \u001b[1;33m=\u001b[0m \u001b[0minputr\u001b[0m\u001b[1;33m(\u001b[0m\u001b[1;33m)\u001b[0m\u001b[1;33m\u001b[0m\u001b[1;33m\u001b[0m\u001b[0m\n\u001b[0m",
      "\u001b[1;31mNameError\u001b[0m: name 'inputr' is not defined"
     ]
    }
   ],
   "source": [
    "a = inputr()"
   ]
  },
  {
   "cell_type": "markdown",
   "metadata": {},
   "source": [
    "#### 除零异常"
   ]
  },
  {
   "cell_type": "code",
   "execution_count": 9,
   "metadata": {},
   "outputs": [
    {
     "name": "stdout",
     "output_type": "stream",
     "text": [
      "10\n",
      "0\n"
     ]
    },
    {
     "ename": "ZeroDivisionError",
     "evalue": "division by zero",
     "output_type": "error",
     "traceback": [
      "\u001b[1;31m---------------------------------------------------------------------------\u001b[0m",
      "\u001b[1;31mZeroDivisionError\u001b[0m                         Traceback (most recent call last)",
      "\u001b[1;32m<ipython-input-9-62e3b15e280b>\u001b[0m in \u001b[0;36m<module>\u001b[1;34m\u001b[0m\n\u001b[0;32m      1\u001b[0m \u001b[0ma\u001b[0m \u001b[1;33m=\u001b[0m \u001b[0mint\u001b[0m\u001b[1;33m(\u001b[0m\u001b[0minput\u001b[0m\u001b[1;33m(\u001b[0m\u001b[1;33m)\u001b[0m\u001b[1;33m)\u001b[0m\u001b[1;33m\u001b[0m\u001b[1;33m\u001b[0m\u001b[0m\n\u001b[0;32m      2\u001b[0m \u001b[0mb\u001b[0m \u001b[1;33m=\u001b[0m \u001b[0mint\u001b[0m\u001b[1;33m(\u001b[0m\u001b[0minput\u001b[0m\u001b[1;33m(\u001b[0m\u001b[1;33m)\u001b[0m\u001b[1;33m)\u001b[0m\u001b[1;33m\u001b[0m\u001b[1;33m\u001b[0m\u001b[0m\n\u001b[1;32m----> 3\u001b[1;33m \u001b[0mc\u001b[0m \u001b[1;33m=\u001b[0m \u001b[0ma\u001b[0m \u001b[1;33m/\u001b[0m \u001b[0mb\u001b[0m\u001b[1;33m\u001b[0m\u001b[1;33m\u001b[0m\u001b[0m\n\u001b[0m\u001b[0;32m      4\u001b[0m \u001b[0mprint\u001b[0m\u001b[1;33m(\u001b[0m\u001b[0mc\u001b[0m\u001b[1;33m)\u001b[0m\u001b[1;33m\u001b[0m\u001b[1;33m\u001b[0m\u001b[0m\n",
      "\u001b[1;31mZeroDivisionError\u001b[0m: division by zero"
     ]
    }
   ],
   "source": [
    "a = int(input())\n",
    "b = int(input())\n",
    "c = a / b\n",
    "print(c)"
   ]
  },
  {
   "cell_type": "markdown",
   "metadata": {},
   "source": [
    "#### 操作数类型异常"
   ]
  },
  {
   "cell_type": "code",
   "execution_count": 11,
   "metadata": {
    "scrolled": true
   },
   "outputs": [
    {
     "name": "stdout",
     "output_type": "stream",
     "text": [
      "abc\n"
     ]
    },
    {
     "ename": "ValueError",
     "evalue": "invalid literal for int() with base 10: 'abc'",
     "output_type": "error",
     "traceback": [
      "\u001b[1;31m---------------------------------------------------------------------------\u001b[0m",
      "\u001b[1;31mValueError\u001b[0m                                Traceback (most recent call last)",
      "\u001b[1;32m<ipython-input-11-91869f0d3d8c>\u001b[0m in \u001b[0;36m<module>\u001b[1;34m\u001b[0m\n\u001b[1;32m----> 1\u001b[1;33m \u001b[0ma\u001b[0m \u001b[1;33m=\u001b[0m \u001b[0mint\u001b[0m\u001b[1;33m(\u001b[0m\u001b[0minput\u001b[0m\u001b[1;33m(\u001b[0m\u001b[1;33m)\u001b[0m\u001b[1;33m)\u001b[0m\u001b[1;33m\u001b[0m\u001b[1;33m\u001b[0m\u001b[0m\n\u001b[0m",
      "\u001b[1;31mValueError\u001b[0m: invalid literal for int() with base 10: 'abc'"
     ]
    }
   ],
   "source": [
    "a = int(input())\n"
   ]
  },
  {
   "cell_type": "code",
   "execution_count": 12,
   "metadata": {},
   "outputs": [
    {
     "ename": "TypeError",
     "evalue": "can only concatenate str (not \"int\") to str",
     "output_type": "error",
     "traceback": [
      "\u001b[1;31m---------------------------------------------------------------------------\u001b[0m",
      "\u001b[1;31mTypeError\u001b[0m                                 Traceback (most recent call last)",
      "\u001b[1;32m<ipython-input-12-2c8b8ec3d2f2>\u001b[0m in \u001b[0;36m<module>\u001b[1;34m\u001b[0m\n\u001b[1;32m----> 1\u001b[1;33m \u001b[0mprint\u001b[0m\u001b[1;33m(\u001b[0m\u001b[1;34m\"1\"\u001b[0m \u001b[1;33m+\u001b[0m \u001b[1;36m2\u001b[0m\u001b[1;33m)\u001b[0m\u001b[1;33m\u001b[0m\u001b[1;33m\u001b[0m\u001b[0m\n\u001b[0m",
      "\u001b[1;31mTypeError\u001b[0m: can only concatenate str (not \"int\") to str"
     ]
    }
   ],
   "source": [
    "print(\"1\" + 2)"
   ]
  },
  {
   "cell_type": "markdown",
   "metadata": {},
   "source": [
    "#### 命名异常"
   ]
  },
  {
   "cell_type": "code",
   "execution_count": 13,
   "metadata": {},
   "outputs": [
    {
     "ename": "NameError",
     "evalue": "name 'x' is not defined",
     "output_type": "error",
     "traceback": [
      "\u001b[1;31m---------------------------------------------------------------------------\u001b[0m",
      "\u001b[1;31mNameError\u001b[0m                                 Traceback (most recent call last)",
      "\u001b[1;32m<ipython-input-13-ad06bdfd1297>\u001b[0m in \u001b[0;36m<module>\u001b[1;34m\u001b[0m\n\u001b[1;32m----> 1\u001b[1;33m \u001b[0my\u001b[0m \u001b[1;33m=\u001b[0m \u001b[0mx\u001b[0m \u001b[1;33m+\u001b[0m \u001b[1;36m5\u001b[0m\u001b[1;33m\u001b[0m\u001b[1;33m\u001b[0m\u001b[0m\n\u001b[0m\u001b[0;32m      2\u001b[0m \u001b[0mprint\u001b[0m\u001b[1;33m(\u001b[0m\u001b[0mx\u001b[0m\u001b[1;33m)\u001b[0m\u001b[1;33m\u001b[0m\u001b[1;33m\u001b[0m\u001b[0m\n",
      "\u001b[1;31mNameError\u001b[0m: name 'x' is not defined"
     ]
    }
   ],
   "source": [
    "y = x + 5\n",
    "print(x)"
   ]
  },
  {
   "cell_type": "markdown",
   "metadata": {},
   "source": [
    "#### 文件不存在异常"
   ]
  },
  {
   "cell_type": "code",
   "execution_count": 14,
   "metadata": {},
   "outputs": [
    {
     "ename": "FileNotFoundError",
     "evalue": "[Errno 2] No such file or directory: 'data/abc.txt'",
     "output_type": "error",
     "traceback": [
      "\u001b[1;31m---------------------------------------------------------------------------\u001b[0m",
      "\u001b[1;31mFileNotFoundError\u001b[0m                         Traceback (most recent call last)",
      "\u001b[1;32m<ipython-input-14-ccf786f62031>\u001b[0m in \u001b[0;36m<module>\u001b[1;34m\u001b[0m\n\u001b[1;32m----> 1\u001b[1;33m \u001b[0mf\u001b[0m \u001b[1;33m=\u001b[0m \u001b[0mopen\u001b[0m\u001b[1;33m(\u001b[0m\u001b[1;34m\"data/abc.txt\"\u001b[0m\u001b[1;33m,\u001b[0m \u001b[1;34m\"r\"\u001b[0m\u001b[1;33m)\u001b[0m\u001b[1;33m\u001b[0m\u001b[1;33m\u001b[0m\u001b[0m\n\u001b[0m",
      "\u001b[1;31mFileNotFoundError\u001b[0m: [Errno 2] No such file or directory: 'data/abc.txt'"
     ]
    }
   ],
   "source": [
    "f = open(\"data/abc.txt\", \"r\")"
   ]
  },
  {
   "cell_type": "markdown",
   "metadata": {},
   "source": [
    "#### 下标越界异常"
   ]
  },
  {
   "cell_type": "code",
   "execution_count": 15,
   "metadata": {},
   "outputs": [
    {
     "ename": "IndexError",
     "evalue": "list index out of range",
     "output_type": "error",
     "traceback": [
      "\u001b[1;31m---------------------------------------------------------------------------\u001b[0m",
      "\u001b[1;31mIndexError\u001b[0m                                Traceback (most recent call last)",
      "\u001b[1;32m<ipython-input-15-d10bb0d71351>\u001b[0m in \u001b[0;36m<module>\u001b[1;34m\u001b[0m\n\u001b[0;32m      1\u001b[0m \u001b[0mlst\u001b[0m \u001b[1;33m=\u001b[0m \u001b[1;33m[\u001b[0m\u001b[1;36m1\u001b[0m\u001b[1;33m,\u001b[0m\u001b[1;36m2\u001b[0m\u001b[1;33m,\u001b[0m\u001b[1;36m3\u001b[0m\u001b[1;33m,\u001b[0m\u001b[1;36m4\u001b[0m\u001b[1;33m]\u001b[0m\u001b[1;33m\u001b[0m\u001b[1;33m\u001b[0m\u001b[0m\n\u001b[1;32m----> 2\u001b[1;33m \u001b[0mprint\u001b[0m\u001b[1;33m(\u001b[0m\u001b[0mlst\u001b[0m\u001b[1;33m[\u001b[0m\u001b[1;36m4\u001b[0m\u001b[1;33m]\u001b[0m\u001b[1;33m)\u001b[0m\u001b[1;33m\u001b[0m\u001b[1;33m\u001b[0m\u001b[0m\n\u001b[0m",
      "\u001b[1;31mIndexError\u001b[0m: list index out of range"
     ]
    }
   ],
   "source": [
    "lst = [1,2,3,4]\n",
    "print(lst[4])"
   ]
  },
  {
   "cell_type": "markdown",
   "metadata": {},
   "source": [
    "#### 参数类型异常"
   ]
  },
  {
   "cell_type": "code",
   "execution_count": 18,
   "metadata": {},
   "outputs": [
    {
     "ename": "TypeError",
     "evalue": "object of type 'int' has no len()",
     "output_type": "error",
     "traceback": [
      "\u001b[1;31m---------------------------------------------------------------------------\u001b[0m",
      "\u001b[1;31mTypeError\u001b[0m                                 Traceback (most recent call last)",
      "\u001b[1;32m<ipython-input-18-2ce12e1c5b59>\u001b[0m in \u001b[0;36m<module>\u001b[1;34m\u001b[0m\n\u001b[0;32m      1\u001b[0m \u001b[1;31m#x = [5]\u001b[0m\u001b[1;33m\u001b[0m\u001b[1;33m\u001b[0m\u001b[1;33m\u001b[0m\u001b[0m\n\u001b[0;32m      2\u001b[0m \u001b[0mx\u001b[0m \u001b[1;33m=\u001b[0m \u001b[1;36m5\u001b[0m\u001b[1;33m\u001b[0m\u001b[1;33m\u001b[0m\u001b[0m\n\u001b[1;32m----> 3\u001b[1;33m \u001b[0mlen\u001b[0m\u001b[1;33m(\u001b[0m\u001b[0mx\u001b[0m\u001b[1;33m)\u001b[0m\u001b[1;33m\u001b[0m\u001b[1;33m\u001b[0m\u001b[0m\n\u001b[0m",
      "\u001b[1;31mTypeError\u001b[0m: object of type 'int' has no len()"
     ]
    }
   ],
   "source": [
    "#x = [5]\n",
    "x = 5\n",
    "len(x)"
   ]
  },
  {
   "cell_type": "markdown",
   "metadata": {},
   "source": [
    "### 7.6.2 常见异常结构处理\n",
    "#### try...except..."
   ]
  },
  {
   "cell_type": "code",
   "execution_count": 31,
   "metadata": {},
   "outputs": [
    {
     "name": "stdout",
     "output_type": "stream",
     "text": [
      "10\n",
      "abc\n"
     ]
    },
    {
     "ename": "NameError",
     "evalue": "name 'p' is not defined",
     "output_type": "error",
     "traceback": [
      "\u001b[1;31m---------------------------------------------------------------------------\u001b[0m",
      "\u001b[1;31mNameError\u001b[0m                                 Traceback (most recent call last)",
      "\u001b[1;32m<ipython-input-31-94eb96f87ac9>\u001b[0m in \u001b[0;36m<module>\u001b[1;34m\u001b[0m\n\u001b[0;32m     10\u001b[0m     \u001b[0mb\u001b[0m \u001b[1;33m=\u001b[0m \u001b[1;36m1\u001b[0m\u001b[1;33m\u001b[0m\u001b[1;33m\u001b[0m\u001b[0m\n\u001b[0;32m     11\u001b[0m \u001b[1;33m\u001b[0m\u001b[0m\n\u001b[1;32m---> 12\u001b[1;33m \u001b[0mprint\u001b[0m\u001b[1;33m(\u001b[0m\u001b[0mp\u001b[0m\u001b[1;33m)\u001b[0m\u001b[1;33m\u001b[0m\u001b[1;33m\u001b[0m\u001b[0m\n\u001b[0m",
      "\u001b[1;31mNameError\u001b[0m: name 'p' is not defined"
     ]
    }
   ],
   "source": [
    "try:\n",
    "    # 可能发生异常的代码\n",
    "    a = int(input())\n",
    "    b = int(input())\n",
    "    p = a / b\n",
    "except ZeroDivisionError:\n",
    "    # 发生异常后的处理\n",
    "    p = 0\n",
    "except ValueError:\n",
    "    b = 1\n",
    "\n",
    "print(p)"
   ]
  },
  {
   "cell_type": "code",
   "execution_count": 37,
   "metadata": {},
   "outputs": [
    {
     "name": "stdout",
     "output_type": "stream",
     "text": [
      "数据类型错误\n"
     ]
    }
   ],
   "source": [
    "try:\n",
    "    a = 10\n",
    "    b = 2\n",
    "    z = a / b\n",
    "    c = int(\"abc\")\n",
    "    print(y)\n",
    "    print(\"12\" + 12)\n",
    "except ZeroDivisionError:\n",
    "    print(\"被零除\")\n",
    "except ValueError:\n",
    "    print(\"数据类型错误\")\n",
    "except NameError:\n",
    "    print(\"命名错误\")\n"
   ]
  },
  {
   "cell_type": "markdown",
   "metadata": {},
   "source": [
    "#### try...except...else..."
   ]
  },
  {
   "cell_type": "code",
   "execution_count": 42,
   "metadata": {},
   "outputs": [
    {
     "name": "stdout",
     "output_type": "stream",
     "text": [
      "其他错误\n"
     ]
    }
   ],
   "source": [
    "try:\n",
    "    a = 10\n",
    "    b = 2\n",
    "    z = a / b\n",
    "    #c = int(\"abc\")\n",
    "    #print(y)\n",
    "    print(\"12\" + 12)\n",
    "except ZeroDivisionError:\n",
    "    print(\"被零除\")\n",
    "except ValueError:\n",
    "    print(\"数据类型错误\")\n",
    "except NameError:\n",
    "    print(\"命名错误\")\n",
    "except:\n",
    "    print(\"其他错误\")\n",
    "else:\n",
    "    print(\"没有错误\")"
   ]
  },
  {
   "cell_type": "markdown",
   "metadata": {},
   "source": [
    "#### try...except...finally..."
   ]
  },
  {
   "cell_type": "code",
   "execution_count": 44,
   "metadata": {},
   "outputs": [
    {
     "name": "stdout",
     "output_type": "stream",
     "text": [
      "没有错误\n",
      "程序结束\n"
     ]
    }
   ],
   "source": [
    "try:\n",
    "    a = 10\n",
    "    b = 2\n",
    "    z = a / b\n",
    "    #c = int(\"abc\")\n",
    "    #print(y)\n",
    "    #print(\"12\" + 12)\n",
    "except ZeroDivisionError:\n",
    "    print(\"被零除\")\n",
    "except ValueError:\n",
    "    print(\"数据类型错误\")\n",
    "except NameError:\n",
    "    print(\"命名错误\")\n",
    "except:\n",
    "    print(\"其他错误\")\n",
    "else:\n",
    "    print(\"没有错误\")\n",
    "finally:\n",
    "    print(\"程序结束\")"
   ]
  },
  {
   "cell_type": "markdown",
   "metadata": {},
   "source": [
    "#### 捕捉多种异常的处理结构"
   ]
  },
  {
   "cell_type": "code",
   "execution_count": null,
   "metadata": {},
   "outputs": [],
   "source": []
  },
  {
   "cell_type": "markdown",
   "metadata": {},
   "source": [
    "## 7.7 任务分析"
   ]
  },
  {
   "cell_type": "code",
   "execution_count": null,
   "metadata": {},
   "outputs": [],
   "source": []
  },
  {
   "cell_type": "markdown",
   "metadata": {},
   "source": [
    "## 7.8 任务实现"
   ]
  },
  {
   "cell_type": "code",
   "execution_count": 49,
   "metadata": {},
   "outputs": [
    {
     "name": "stdout",
     "output_type": "stream",
     "text": [
      "文件正常打开并添加了数据\n",
      "程序结束\n"
     ]
    }
   ],
   "source": [
    "from openpyxl import load_workbook\n",
    "try:\n",
    "    wb = load_workbook(\"data/foo.xlsx\")\n",
    "    ws = wb.worksheets[2]\n",
    "    ws.append([6,7,8,9,10])\n",
    "    wb.save(\"data/foo.xlsx\")\n",
    "except FileNotFoundError:\n",
    "    print(\"文件不存在\")\n",
    "except IndexError:\n",
    "    print(\"工作表下标越界\")\n",
    "except TypeError:\n",
    "    print(\"参数类型错误\")\n",
    "except PermissionError:\n",
    "    print(\"文件没有权限\")\n",
    "except:\n",
    "    print(\"未知错误\")\n",
    "else:\n",
    "    print(\"文件正常打开并添加了数据\")\n",
    "finally:\n",
    "    print(\"程序结束\")"
   ]
  },
  {
   "cell_type": "markdown",
   "metadata": {},
   "source": [
    "## 7.9 职业院校建设方案的分词和云图"
   ]
  },
  {
   "cell_type": "markdown",
   "metadata": {},
   "source": [
    "- 文本处理\n",
    "- 自然语言处理\n",
    "- 可视化"
   ]
  },
  {
   "cell_type": "markdown",
   "metadata": {},
   "source": [
    "## 7.10 预备知识--jieba库和wordcloud库\n",
    "### 7.10.1 jieba库"
   ]
  },
  {
   "cell_type": "code",
   "execution_count": 1,
   "metadata": {},
   "outputs": [],
   "source": [
    "# pip install jieba\n",
    "import jieba"
   ]
  },
  {
   "cell_type": "markdown",
   "metadata": {},
   "source": [
    "#### 精确模式"
   ]
  },
  {
   "cell_type": "code",
   "execution_count": 2,
   "metadata": {},
   "outputs": [
    {
     "data": {
      "text/plain": [
       "range(0, 10)"
      ]
     },
     "execution_count": 2,
     "metadata": {},
     "output_type": "execute_result"
    }
   ],
   "source": [
    "range(10)"
   ]
  },
  {
   "cell_type": "code",
   "execution_count": 5,
   "metadata": {},
   "outputs": [
    {
     "name": "stdout",
     "output_type": "stream",
     "text": [
      "['深圳', '职业', '技术', '学院', '中国', '特色', '世界', '一流', '职业院校', '建设', '方案']\n"
     ]
    }
   ],
   "source": [
    "# jieba.cut(),jieba.lcut()\n",
    "s = \"深圳职业技术学院中国特色世界一流职业院校建设方案\"\n",
    "lst = jieba.lcut(s, cut_all=False)\n",
    "print(lst)"
   ]
  },
  {
   "cell_type": "markdown",
   "metadata": {},
   "source": [
    "#### 全模式"
   ]
  },
  {
   "cell_type": "code",
   "execution_count": 6,
   "metadata": {},
   "outputs": [
    {
     "name": "stdout",
     "output_type": "stream",
     "text": [
      "['深圳', '职业', '技术', '术学', '学院', '院中', '中国', '国特', '特色', '世界', '一流', '职业', '职业院校', '院校', '建设', '方案']\n"
     ]
    }
   ],
   "source": [
    "s = \"深圳职业技术学院中国特色世界一流职业院校建设方案\"\n",
    "lst = jieba.lcut(s, cut_all=True)\n",
    "print(lst)"
   ]
  },
  {
   "cell_type": "markdown",
   "metadata": {},
   "source": [
    "#### 搜索引擎模式"
   ]
  },
  {
   "cell_type": "code",
   "execution_count": 7,
   "metadata": {},
   "outputs": [
    {
     "name": "stdout",
     "output_type": "stream",
     "text": [
      "['深圳', '职业', '技术', '学院', '中国', '特色', '世界', '一流', '职业', '院校', '职业院校', '建设', '方案']\n"
     ]
    }
   ],
   "source": [
    "s = \"深圳职业技术学院中国特色世界一流职业院校建设方案\"\n",
    "lst = jieba.lcut_for_search(s)\n",
    "print(lst)"
   ]
  },
  {
   "cell_type": "markdown",
   "metadata": {},
   "source": [
    "### 7.10.2 wordcloud库"
   ]
  },
  {
   "cell_type": "code",
   "execution_count": 8,
   "metadata": {},
   "outputs": [],
   "source": [
    "# pip install wordcloud\n",
    "import wordcloud"
   ]
  },
  {
   "cell_type": "markdown",
   "metadata": {},
   "source": [
    "#### 创建词云图"
   ]
  },
  {
   "cell_type": "code",
   "execution_count": 9,
   "metadata": {},
   "outputs": [
    {
     "data": {
      "text/plain": [
       "<wordcloud.wordcloud.WordCloud at 0xd68cd30>"
      ]
     },
     "execution_count": 9,
     "metadata": {},
     "output_type": "execute_result"
    }
   ],
   "source": [
    "import wordcloud\n",
    "wc = wordcloud.WordCloud()\n",
    "wc.generate(\"python is good linux is good python is better python is best\")\n",
    "wc.to_file(\"data/sample.png\")"
   ]
  },
  {
   "cell_type": "code",
   "execution_count": 10,
   "metadata": {},
   "outputs": [
    {
     "data": {
      "text/plain": [
       "<wordcloud.wordcloud.WordCloud at 0xe903eb8>"
      ]
     },
     "execution_count": 10,
     "metadata": {},
     "output_type": "execute_result"
    }
   ],
   "source": [
    "with open(\"data/hamlet.txt\",\"r\") as f:\n",
    "    txt = f.read()\n",
    "wc = wordcloud.WordCloud()\n",
    "wc.generate(txt)\n",
    "wc.to_file(\"data/hamlet.png\")"
   ]
  },
  {
   "cell_type": "markdown",
   "metadata": {},
   "source": [
    "## 7.11 任务分析\n",
    "### 7.11.1 词频统计"
   ]
  },
  {
   "cell_type": "code",
   "execution_count": null,
   "metadata": {},
   "outputs": [],
   "source": []
  },
  {
   "cell_type": "markdown",
   "metadata": {},
   "source": [
    "### 7.11.2 统计优化"
   ]
  },
  {
   "cell_type": "code",
   "execution_count": null,
   "metadata": {},
   "outputs": [],
   "source": []
  },
  {
   "cell_type": "markdown",
   "metadata": {},
   "source": [
    "### 7.11.3 词云图的绘制"
   ]
  },
  {
   "cell_type": "code",
   "execution_count": null,
   "metadata": {},
   "outputs": [],
   "source": []
  },
  {
   "cell_type": "markdown",
   "metadata": {},
   "source": [
    "## 7.12 任务实现\n",
    "#### 词频统计"
   ]
  },
  {
   "cell_type": "code",
   "execution_count": 12,
   "metadata": {},
   "outputs": [
    {
     "name": "stdout",
     "output_type": "stream",
     "text": [
      "[('，', 717), ('\\n', 702), ('、', 479), (' ', 437), ('。', 317), ('的', 299), ('\\u3000', 246), ('建设', 164), ('和', 159), ('教育', 158)]\n"
     ]
    }
   ],
   "source": [
    "import jieba\n",
    "with open(\"data/szpt.txt\",\"r\") as f:\n",
    "    txt = f.read()\n",
    "seg_list = jieba.lcut(txt)\n",
    "counts = {}\n",
    "for word in seg_list:\n",
    "    counts[word] = counts.get(word,0) + 1\n",
    "count_list = list(counts.items())\n",
    "count_list.sort(key=lambda x:x[1], reverse=True)\n",
    "print(count_list[:10])"
   ]
  },
  {
   "cell_type": "markdown",
   "metadata": {},
   "source": [
    "#### 统计优化"
   ]
  },
  {
   "cell_type": "code",
   "execution_count": 13,
   "metadata": {},
   "outputs": [
    {
     "name": "stdout",
     "output_type": "stream",
     "text": [
      "[('建设', 164), ('教育', 158), ('技术', 120), ('职业', 114), ('一流', 107), ('专业', 73), ('世界', 72), ('国际', 71), ('技能', 69), ('创新', 68)]\n"
     ]
    }
   ],
   "source": [
    "import jieba\n",
    "with open(\"data/szpt.txt\",\"r\") as f:\n",
    "    txt = f.read()\n",
    "seg_list = jieba.lcut(txt)\n",
    "counts = {}\n",
    "for word in seg_list:\n",
    "    counts[word] = counts.get(word,0) + 1\n",
    "    \n",
    "# 停止词处理\n",
    "excludes={'\\u3000','\\n',' ','的','，','：','（','）','、',' ','。','和','“','”','与','等','《','》'}\n",
    "for w in excludes:\n",
    "    if w in counts:\n",
    "        del counts[w]\n",
    "    \n",
    "count_list = list(counts.items())\n",
    "count_list.sort(key=lambda x:x[1], reverse=True)\n",
    "print(count_list[:10])"
   ]
  },
  {
   "cell_type": "code",
   "execution_count": 19,
   "metadata": {},
   "outputs": [
    {
     "name": "stdout",
     "output_type": "stream",
     "text": [
      "[('建设', 164), ('教育', 158), ('技术', 120), ('职业', 114), ('一流', 107), ('专业', 73), ('世界', 72), ('国际', 71), ('技能', 69), ('创新', 68)]\n"
     ]
    },
    {
     "data": {
      "text/plain": [
       "<wordcloud.wordcloud.WordCloud at 0xe91c630>"
      ]
     },
     "execution_count": 19,
     "metadata": {},
     "output_type": "execute_result"
    }
   ],
   "source": [
    "import jieba\n",
    "import wordcloud\n",
    "with open(\"data/szpt.txt\",\"r\") as f:\n",
    "    txt = f.read()\n",
    "seg_list = jieba.lcut(txt)\n",
    "counts = {}\n",
    "for word in seg_list:\n",
    "    counts[word] = counts.get(word,0) + 1\n",
    "    \n",
    "# 停止词处理\n",
    "excludes=['\\u3000','\\n',' ','的','，','：','（','）','、',\n",
    "          ' ','。','和','“','”','与','等','《','》']\n",
    "for w in excludes:\n",
    "    if w in counts:\n",
    "        del counts[w]\n",
    "    \n",
    "count_list = list(counts.items())\n",
    "count_list.sort(key=lambda x:x[1], reverse=True)\n",
    "print(count_list[:10])\n",
    "\n",
    "# 词云\n",
    "wc_split = \"/\".join(seg_list)\n",
    "wc = wordcloud.WordCloud(background_color=\"white\",font_path=\"c:/windows/Fonts/STXIHEI.TTF\")\n",
    "wc.generate(wc_split)\n",
    "wc.to_file(\"data/szpt.png\")"
   ]
  },
  {
   "cell_type": "markdown",
   "metadata": {},
   "source": [
    "#### 词云图绘制"
   ]
  },
  {
   "cell_type": "code",
   "execution_count": 4,
   "metadata": {},
   "outputs": [
    {
     "data": {
      "image/png": "[encoded data removed]",
      "text/plain": [
       "<Figure size 864x576 with 1 Axes>"
      ]
     },
     "metadata": {
      "needs_background": "light"
     },
     "output_type": "display_data"
    }
   ],
   "source": [
    "import matplotlib.pyplot as plt\n",
    "from wordcloud import WordCloud,ImageColorGenerator\n",
    "from PIL import Image\n",
    "import jieba\n",
    "import numpy\n",
    "#打开图像并转化为数字矩阵\n",
    "img= numpy.array(Image.open(\"data/back.png\"))\n",
    "\n",
    "text_word = open('data/szpt.txt').read()\n",
    "\n",
    "wordlist= jieba.lcut(text_word, cut_all=True)\n",
    "wl_split = \"/\".join(wordlist)\n",
    "\n",
    "wc1 = WordCloud(background_color='WHITE', max_font_size=1000, mask=img,\n",
    "                font_path=\"C:\\\\Windows\\\\Fonts\\\\STKAITI.TTF\")\n",
    "\n",
    "my_wordcloud = wc1.generate(wl_split)\n",
    "\n",
    "#image_color = ImageColorGenerator(img)\n",
    "#wc1.recolor(color_func=image_color)\n",
    "plt.figure(figsize=(12,8))\n",
    "plt.imshow(my_wordcloud)\n",
    "plt.axis(\"off\")\n",
    "plt.show()"
   ]
  },
  {
   "cell_type": "markdown",
   "metadata": {},
   "source": [
    "## 7.13 总结与提高--os库其他成员、文件编码、再谈异常\n",
    "## 7.13.1 os库其他成员"
   ]
  },
  {
   "cell_type": "code",
   "execution_count": null,
   "metadata": {},
   "outputs": [],
   "source": []
  },
  {
   "cell_type": "markdown",
   "metadata": {},
   "source": [
    "### 7.13.2 文件编码"
   ]
  },
  {
   "cell_type": "code",
   "execution_count": null,
   "metadata": {},
   "outputs": [],
   "source": []
  },
  {
   "cell_type": "markdown",
   "metadata": {},
   "source": [
    "### 7.13.3 再谈异常"
   ]
  },
  {
   "cell_type": "code",
   "execution_count": null,
   "metadata": {},
   "outputs": [],
   "source": []
  },
  {
   "cell_type": "markdown",
   "metadata": {},
   "source": [
    "## 7.14 巩固与提高\n",
    "### 7.14.1 数据处理与文件另存"
   ]
  },
  {
   "cell_type": "code",
   "execution_count": null,
   "metadata": {},
   "outputs": [],
   "source": []
  },
  {
   "cell_type": "markdown",
   "metadata": {},
   "source": [
    "### 7.14.2 批量修改记事本文件编码格式"
   ]
  },
  {
   "cell_type": "code",
   "execution_count": null,
   "metadata": {},
   "outputs": [],
   "source": []
  },
  {
   "cell_type": "markdown",
   "metadata": {},
   "source": [
    "### 7.14.3 演员参演信息"
   ]
  },
  {
   "cell_type": "code",
   "execution_count": 1,
   "metadata": {},
   "outputs": [
    {
     "name": "stdout",
     "output_type": "stream",
     "text": [
      "('演员1', {'电影10', '电影1', '电影15', '电影7', '电影13', '电影5', '电影11', '电影8', '电影3', '电影4'})\n",
      "('演员2', {'电影2', '电影1', '电影5'})\n",
      "('演员3', {'电影1', '电影17', '电影6', '电影2', '电影18', '电影13', '电影5', '电影11', '电影8', '电影3', '电影4', '电影9'})\n",
      "('演员4', {'电影14', '电影10', '电影1', '电影17', '电影12', '电影16', '电影7', '电影2', '电影18', '电影11', '电影8', '电影4', '电影9'})\n",
      "('演员5', {'电影10', '电影6', '电影2', '电影3', '电影9'})\n",
      "('演员6', {'电影3', '电影7'})\n",
      "('演员7', {'电影12', '电影6', '电影7', '电影13', '电影4'})\n",
      "('演员8', {'电影15', '电影5', '电影8'})\n",
      "('演员9', {'电影14', '电影17', '电影12', '电影6', '电影9'})\n",
      "('演员10', {'电影14', '电影10', '电影18'})\n",
      "('演员11', {'电影15', '电影11'})\n",
      "('演员12', {'电影12'})\n",
      "('演员13', {'电影13', '电影16'})\n",
      "('演员14', {'电影14', '电影16'})\n",
      "('演员15', {'电影15'})\n",
      "('演员16', {'电影16'})\n"
     ]
    }
   ],
   "source": [
    "import openpyxl\n",
    "from openpyxl import Workbook\n",
    "\n",
    "def getData(filename):\n",
    "    actors = dict()\n",
    "    # 打开xlsx文件，并获取第一个worksheet\n",
    "    wb = openpyxl.load_workbook(filename)\n",
    "    ws = wb.worksheets[0]\n",
    "    # 遍历Excel文件中的所有行\n",
    "    for index, row in enumerate(ws.rows):\n",
    "        # 绕过第一行的表头\n",
    "        if index == 0:\n",
    "            continue\n",
    "        # 获取电影名称和演员列表\n",
    "        filmName, actor = row[0].value, row[2].value.split('，')\n",
    "        # 遍历该电影的所有演员，统计参演电影\n",
    "        for a in actor:\n",
    "            actors[a] = actors.get(a, set())\n",
    "            actors[a].add(filmName)\n",
    "    return actors\n",
    "\n",
    "data = getData('data/电影导演演员.xlsx')\n",
    "# 排序\n",
    "data = sorted(data.items(), key=lambda x:int(x[0][2:]))\n",
    "for item in data:\n",
    "    print(item)"
   ]
  },
  {
   "cell_type": "markdown",
   "metadata": {},
   "source": [
    "## 7.15 编程习题"
   ]
  },
  {
   "cell_type": "code",
   "execution_count": null,
   "metadata": {},
   "outputs": [],
   "source": []
  },
  {
   "cell_type": "markdown",
   "metadata": {},
   "source": [
    "## 补充：Python图像处理--pillow库"
   ]
  },
  {
   "cell_type": "code",
   "execution_count": 17,
   "metadata": {},
   "outputs": [],
   "source": [
    "# pip install pillow\n",
    "from PIL import Image, ImageFilter\n",
    "im = Image.open(\"data/Koala.jpg\")\n",
    "# im.show()\n",
    "#im.save(\"data/back.bmp\")\n",
    "om = im.filter(ImageFilter.CONTOUR)\n",
    "om.show()"
   ]
  }
 ],
 "metadata": {
  "hide_input": false,
  "kernelspec": {
   "display_name": "Python 3",
   "language": "python",
   "name": "python3"
  },
  "language_info": {
   "codemirror_mode": {
    "name": "ipython",
    "version": 3
   },
   "file_extension": ".py",
   "mimetype": "text/x-python",
   "name": "python",
   "nbconvert_exporter": "python",
   "pygments_lexer": "ipython3",
   "version": "3.7.3"
  },
  "toc": {
   "base_numbering": 1,
   "nav_menu": {},
   "number_sections": false,
   "sideBar": false,
   "skip_h1_title": false,
   "title_cell": "Table of Contents",
   "title_sidebar": "Contents",
   "toc_cell": false,
   "toc_position": {},
   "toc_section_display": false,
   "toc_window_display": false
  }
 },
 "nbformat": 4,
 "nbformat_minor": 2
}
