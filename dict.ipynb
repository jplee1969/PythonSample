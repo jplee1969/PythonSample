{
 "cells": [
  {
   "cell_type": "code",
   "execution_count": 2,
   "metadata": {},
   "outputs": [
    {
     "name": "stdout",
     "output_type": "stream",
     "text": [
      "defaultdict(<class 'list'>, {'66-': [11, 22, 10, 27, 48, 8, 41, 37, 45, 24, 50, 29, 24, 44, 44, 7, 39, 39, 22, 28, 38, 38, 51, 39, 4, 21, 26, 37, 8, 49, 43, 55, 12, 29, 10, 64, 26, 22, 16, 4, 63, 57, 53, 4, 26, 51, 24, 41, 16, 21, 7, 17, 1, 8, 30, 48, 43, 31, 25, 31, 27, 23, 49, 11, 17, 62], '66+': [92, 69, 80, 74, 79, 100, 73, 98, 84, 85, 94, 83, 78, 99, 94, 88, 68, 85, 69, 89, 100, 73, 93, 96, 82, 93, 72, 80, 78, 97, 86, 90, 78, 82]})\n"
     ]
    }
   ],
   "source": [
    "from collections import defaultdict\n",
    "from random import randint\n",
    "dic = defaultdict(list)\n",
    "nums = []\n",
    "for count in range(100):\n",
    "    nums.append(randint(1,100))\n",
    "\n",
    "for x in nums:\n",
    "    if x > 66:\n",
    "        dic[\"66+\"].append(x)\n",
    "    else:\n",
    "        dic[\"66-\"].append(x)\n",
    "print(dic)"
   ]
  },
  {
   "cell_type": "code",
   "execution_count": 5,
   "metadata": {},
   "outputs": [
    {
     "data": {
      "text/plain": [
       "[1, 3, 5, 7, 9, 2, 4, 6, 8]"
      ]
     },
     "execution_count": 5,
     "metadata": {},
     "output_type": "execute_result"
    }
   ],
   "source": [
    "dt = [1,2,3,4,5,6,7,8,9]\n",
    "dt.sort(key=lambda x:0 if x%2!=0 else 1)\n",
    "dt"
   ]
  },
  {
   "cell_type": "code",
   "execution_count": 6,
   "metadata": {},
   "outputs": [
    {
     "data": {
      "text/plain": [
       "{10: 'hello', 100: 'hello', 1000: 'hello'}"
      ]
     },
     "execution_count": 6,
     "metadata": {},
     "output_type": "execute_result"
    }
   ],
   "source": [
    "lst = [10,100,1000]\n",
    "{}.fromkeys(lst, \"hello\")"
   ]
  },
  {
   "cell_type": "code",
   "execution_count": 17,
   "metadata": {},
   "outputs": [],
   "source": [
    "dt = [{1:10}, {1:100}, {2:200}, {2:20}]\n"
   ]
  },
  {
   "cell_type": "code",
   "execution_count": 19,
   "metadata": {},
   "outputs": [
    {
     "name": "stdout",
     "output_type": "stream",
     "text": [
      "defaultdict(<class 'list'>, {1: [10, 100], 2: [200, 20]})\n"
     ]
    }
   ],
   "source": [
    "from collections import defaultdict\n",
    "#dt = {1:10, 1:100, 2:200, 2:20}\n",
    "dt = [{1:10}, {1:100}, {2:200}, {2:20}]\n",
    "dt1 = defaultdict(list)\n",
    "for dic in dt:\n",
    "    for k,v in dic.items():\n",
    "        dt1[k].append(v)\n",
    "print(dt1)"
   ]
  },
  {
   "cell_type": "code",
   "execution_count": null,
   "metadata": {},
   "outputs": [],
   "source": []
  }
 ],
 "metadata": {
  "interpreter": {
   "hash": "ae63b409694a126c4615c2ad0cb550b5147a349716eb2b466ef6ceafb5a5ffc8"
  },
  "kernelspec": {
   "display_name": "Python 3.8.8 64-bit ('base': conda)",
   "name": "python3"
  },
  "language_info": {
   "codemirror_mode": {
    "name": "ipython",
    "version": 3
   },
   "file_extension": ".py",
   "mimetype": "text/x-python",
   "name": "python",
   "nbconvert_exporter": "python",
   "pygments_lexer": "ipython3",
   "version": "3.8.8"
  },
  "orig_nbformat": 4
 },
 "nbformat": 4,
 "nbformat_minor": 2
}
