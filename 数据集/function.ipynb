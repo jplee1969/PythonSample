{
 "cells": [
  {
   "cell_type": "code",
   "execution_count": 4,
   "metadata": {},
   "outputs": [],
   "source": [
    "def computer_play():\n",
    "    import random \n",
    "    lst = (\"石头\",\"剪刀\",\"布\")\n",
    "    return lst[random.randint(0,2)]\n",
    "\n",
    "def player_play(n):\n",
    "    lst = (\"石头\",\"剪刀\",\"布\")\n",
    "    return lst[n]\n",
    "\n",
    "def judge(p,c):\n",
    "    wins = ((\"石头\",\"剪刀\"),(\"布\",\"石头\"),(\"剪刀\",\"布\"))\n",
    "    if (c,p) in wins:\n",
    "        return True"
   ]
  },
  {
   "cell_type": "code",
   "execution_count": 6,
   "metadata": {},
   "outputs": [
    {
     "name": "stdout",
     "output_type": "stream",
     "text": [
      "你出石头,电脑出布\n",
      "你赢了\n",
      "你出剪刀,电脑出布\n",
      "你输了\n",
      "你出石头,电脑出布\n",
      "你赢了\n",
      "你出布,电脑出布\n",
      "你输了\n",
      "你出剪刀,电脑出布\n",
      "你输了\n",
      "你出石头,电脑出布\n",
      "你赢了\n",
      "你出剪刀,电脑出布\n",
      "你输了\n",
      "你出布,电脑出石头\n",
      "你输了\n",
      "一共8局，你赢了3局，电脑赢了5局。\n"
     ]
    }
   ],
   "source": [
    "# 主程序\n",
    "if __name__==\"__main__\":\n",
    "    \n",
    "    total = 0\n",
    "    play_cnt = 0\n",
    "    while True:\n",
    "        play_num = eval(input(\"请出拳（1-石头，2-剪刀，3-布，-1退出）\"))\n",
    "        if play_num == -1:\n",
    "            break\n",
    "        total += 1\n",
    "        # 玩家出拳\n",
    "        player = player_play(play_num-1)\n",
    "        # 电脑出拳\n",
    "        computer = computer_play()\n",
    "        # 判断输赢\n",
    "        print(\"你出{},电脑出{}\".format(player,computer))\n",
    "        if judge(player,computer):\n",
    "            print(\"你赢了\")\n",
    "            play_cnt += 1\n",
    "        else:\n",
    "            print(\"你输了\")\n",
    "    # 统计\n",
    "    print(\"一共{}局，你赢了{}局，电脑赢了{}局。\".format(total,play_cnt,total-play_cnt))"
   ]
  },
  {
   "cell_type": "code",
   "execution_count": null,
   "metadata": {},
   "outputs": [],
   "source": []
  }
 ],
 "metadata": {
  "interpreter": {
   "hash": "ae63b409694a126c4615c2ad0cb550b5147a349716eb2b466ef6ceafb5a5ffc8"
  },
  "kernelspec": {
   "display_name": "Python 3.8.8 64-bit ('base': conda)",
   "language": "python",
   "name": "python3"
  },
  "language_info": {
   "codemirror_mode": {
    "name": "ipython",
    "version": 3
   },
   "file_extension": ".py",
   "mimetype": "text/x-python",
   "name": "python",
   "nbconvert_exporter": "python",
   "pygments_lexer": "ipython3",
   "version": "3.8.8"
  },
  "orig_nbformat": 4
 },
 "nbformat": 4,
 "nbformat_minor": 2
}
